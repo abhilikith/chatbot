{
  "cells": [
    {
      "cell_type": "markdown",
      "metadata": {
        "id": "view-in-github",
        "colab_type": "text"
      },
      "source": [
        "<a href=\"https://colab.research.google.com/github/abhilikith/chatbot/blob/main/rulebasebot.ipynb\" target=\"_parent\"><img src=\"https://colab.research.google.com/assets/colab-badge.svg\" alt=\"Open In Colab\"/></a>"
      ]
    },
    {
      "cell_type": "code",
      "execution_count": null,
      "metadata": {
        "colab": {
          "background_save": true,
          "base_uri": "https://localhost:8080/"
        },
        "id": "fv09ZyqK4ZRa",
        "outputId": "5e3cf3fb-f046-4528-dc58-1cd76cb1f780"
      },
      "outputs": [
        {
          "output_type": "stream",
          "name": "stdout",
          "text": [
            "Chatbot: Hi! Type 'exit' to end the conversation.\n",
            "You: hello\n",
            "Chatbot: Hi there! How can I help you?\n",
            "You: what isyour name\n",
            "Chatbot: I'm sorry, I don't understand that. Could you please rephrase?\n"
          ]
        }
      ],
      "source": [
        "\n",
        "positive_rules = {\n",
        "    \"hello\": \"Hi there! How can I help you?\",\n",
        "    \"hi\": \"Hello! What can I do for you today?\",\n",
        "    \"how are you\": \"I'm just a program, so I don't have feelings, but thanks for asking!\",\n",
        "    \"what's your name\": \"I'm a chatbot created to assist you. I don't have a specific name yet.\",\n",
        "    \"default\": \"I'm sorry, I don't understand that. Could you please rephrase?\"\n",
        "}\n",
        "\n",
        "negative_rules = {\n",
        "    \"bye\": \"It seems like you're not happy. Let's end this conversation. Goodbye!\",\n",
        "    \"no\": \"There's no need for negativity. Goodbye!\",\n",
        "    \"hate\": \"I’m sorry to hear that. It’s time to say goodbye!\",\n",
        "    \"exit\": \"Goodbye!\"\n",
        "}\n",
        "\n",
        "\n",
        "def get_response(user_input):\n",
        "\n",
        "    user_input = user_input.lower()\n",
        "\n",
        "\n",
        "    for key in negative_rules:\n",
        "        if key in user_input:\n",
        "            return negative_rules[key], True\n",
        "\n",
        "\n",
        "    for key in positive_rules:\n",
        "        if key in user_input:\n",
        "            return positive_rules[key], False\n",
        "\n",
        "\n",
        "    return positive_rules[\"default\"], False\n",
        "\n",
        "\n",
        "def chatbot():\n",
        "    print(\"Chatbot: Hi! Type 'exit' to end the conversation.\")\n",
        "    while True:\n",
        "        user_input = input(\"You: \")\n",
        "\n",
        "        response, is_negative = get_response(user_input)\n",
        "        print(f\"Chatbot: {response}\")\n",
        "\n",
        "        if is_negative:\n",
        "            break\n",
        "\n",
        "\n",
        "chatbot()\n"
      ]
    },
    {
      "cell_type": "code",
      "source": [],
      "metadata": {
        "id": "sxPi11C0S6TU"
      },
      "execution_count": null,
      "outputs": []
    }
  ],
  "metadata": {
    "colab": {
      "provenance": [],
      "authorship_tag": "ABX9TyO5BnJ1Fc7ZyKD55HwVF2Vj",
      "include_colab_link": true
    },
    "kernelspec": {
      "display_name": "Python 3",
      "name": "python3"
    },
    "language_info": {
      "name": "python"
    }
  },
  "nbformat": 4,
  "nbformat_minor": 0
}